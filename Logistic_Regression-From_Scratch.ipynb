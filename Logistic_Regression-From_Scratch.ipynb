{
  "nbformat": 4,
  "nbformat_minor": 0,
  "metadata": {
    "colab": {
      "provenance": [],
      "authorship_tag": "ABX9TyNZyfLUV6Ez5HiBtJxsHleN",
      "include_colab_link": true
    },
    "kernelspec": {
      "name": "python3",
      "display_name": "Python 3"
    },
    "language_info": {
      "name": "python"
    }
  },
  "cells": [
    {
      "cell_type": "markdown",
      "metadata": {
        "id": "view-in-github",
        "colab_type": "text"
      },
      "source": [
        "<a href=\"https://colab.research.google.com/github/Fawzy-AI-Explorer/X-From-Scratch/blob/main/Logistic_Regression-From_Scratch.ipynb\" target=\"_parent\"><img src=\"https://colab.research.google.com/assets/colab-badge.svg\" alt=\"Open In Colab\"/></a>"
      ]
    },
    {
      "cell_type": "markdown",
      "source": [
        "# Logistic Regression From Scratct\n",
        "## Outline:\n",
        "- [Goals](#goals)\n",
        "- [Tools](#tools)"
      ],
      "metadata": {
        "id": "VbEKtzrMtk09"
      }
    },
    {
      "cell_type": "markdown",
      "source": [
        "## <a name=\"goals\">Goals<a>\n",
        "In this toturial, we will:\n",
        "\n",
        "- Implement the logistic regression model.\n",
        "- Implement the gradient descent algorithm to train the model.\n",
        "- Implement the accuracy score to evaluate the model.<br><br>\n",
        "\n",
        "*All from scratch*"
      ],
      "metadata": {
        "id": "SqLxA5pAusjp"
      }
    },
    {
      "cell_type": "markdown",
      "source": [
        "## <a name=\"tools\">Tools<a>\n",
        "In this project, we will make use of:\n",
        "- math, This module provides access to the mathematical functions defined by the C standard\n",
        "- pandas, a Python library used for working with data sets\n",
        "- NumPy, a popular library for scientific computing\n",
        "- seaborn, a Python data visualization library based on matplotlib\n",
        "- Matplotlib, a popular library for plotting data"
      ],
      "metadata": {
        "id": "C88Qmwf0vCd1"
      }
    },
    {
      "cell_type": "code",
      "execution_count": null,
      "metadata": {
        "id": "hThsZhi1suD2"
      },
      "outputs": [],
      "source": [
        "import math, copy\n",
        "import pandas as pd\n",
        "import numpy as np\n",
        "import seaborn as sns\n",
        "import matplotlib as plt"
      ]
    }
  ]
}