{
  "nbformat": 4,
  "nbformat_minor": 0,
  "metadata": {
    "colab": {
      "provenance": [],
      "collapsed_sections": [
        "66P-986F1IjX",
        "ntr1hfgylIq7",
        "o1fCIn_klMeN",
        "W9p7pz-HoRPa",
        "CiLaPEsKoU3h"
      ],
      "authorship_tag": "ABX9TyOonFSZP4ksSJerfE0ohQzg",
      "include_colab_link": true
    },
    "kernelspec": {
      "name": "python3",
      "display_name": "Python 3"
    },
    "language_info": {
      "name": "python"
    }
  },
  "cells": [
    {
      "cell_type": "markdown",
      "metadata": {
        "id": "view-in-github",
        "colab_type": "text"
      },
      "source": [
        "<a href=\"https://colab.research.google.com/github/Fawzy-AI-Explorer/X-From-Scratch/blob/main/NN_from_scratch.ipynb\" target=\"_parent\"><img src=\"https://colab.research.google.com/assets/colab-badge.svg\" alt=\"Open In Colab\"/></a>"
      ]
    },
    {
      "cell_type": "markdown",
      "source": [
        "# **Import Librarires**"
      ],
      "metadata": {
        "id": "66P-986F1IjX"
      }
    },
    {
      "cell_type": "code",
      "execution_count": 41,
      "metadata": {
        "id": "fhVhrwGtHjeL"
      },
      "outputs": [],
      "source": [
        "import numpy as np\n",
        "import matplotlib.pyplot as plt\n",
        "import tensorflow.keras.utils as utils\n",
        "import tensorflow.keras.datasets.mnist as mnist\n",
        "\n"
      ]
    },
    {
      "cell_type": "code",
      "source": [
        "\n",
        "def plot_sample_images(images, labels, num_samples=25):\n",
        "    \"\"\"\n",
        "    Plot a grid of sample images from the dataset along with their corresponding labels.\n",
        "\n",
        "    Parameters:\n",
        "        images (numpy.ndarray): An array of images to display.\n",
        "        labels (numpy.ndarray): An array of corresponding labels for the images.\n",
        "        num_samples (int): Number of samples to plot. Default is 25.\n",
        "    \"\"\"\n",
        "    plt.figure(figsize=(10, 10))\n",
        "    for i in range(num_samples):\n",
        "        plt.subplot(5, 5, i + 1)\n",
        "        plt.xticks([])\n",
        "        plt.yticks([])\n",
        "        plt.grid(False)\n",
        "        plt.imshow(images[i], cmap=plt.cm.binary)\n",
        "        plt.xlabel(labels[i])\n",
        "    plt.show()\n",
        "\n"
      ],
      "metadata": {
        "id": "pnT_rmnki4d-"
      },
      "execution_count": 42,
      "outputs": []
    },
    {
      "cell_type": "markdown",
      "source": [
        "# **Load DataSet**"
      ],
      "metadata": {
        "id": "ntr1hfgylIq7"
      }
    },
    {
      "cell_type": "code",
      "source": [
        "# (train_images, train_labels), (test_images, test_labels) = mnist.load_data()\n",
        "\n",
        "\n",
        "# Load the entire MNIST dataset\n",
        "(train_images, train_labels), (test_images, test_labels) = mnist.load_data()\n",
        "\n",
        "# Filter the dataset to include only digits 2 and 3\n",
        "train_mask = np.isin(train_labels, [1,2])\n",
        "test_mask = np.isin(test_labels, [1 , 2])\n",
        "\n",
        "train_images = train_images[train_mask]\n",
        "train_labels = train_labels[train_mask]\n",
        "test_images = test_images[test_mask]\n",
        "test_labels = test_labels[test_mask]\n",
        "\n"
      ],
      "metadata": {
        "id": "egWZghNzzgdy"
      },
      "execution_count": 43,
      "outputs": []
    },
    {
      "cell_type": "markdown",
      "source": [
        "# **Some Info about Data**"
      ],
      "metadata": {
        "id": "o1fCIn_klMeN"
      }
    },
    {
      "cell_type": "code",
      "source": [
        "len(train_images)"
      ],
      "metadata": {
        "colab": {
          "base_uri": "https://localhost:8080/"
        },
        "id": "nwZkXMx43D9y",
        "outputId": "24b5daa6-fc75-4185-eb02-c8af11bf432a"
      },
      "execution_count": 44,
      "outputs": [
        {
          "output_type": "execute_result",
          "data": {
            "text/plain": [
              "12700"
            ]
          },
          "metadata": {},
          "execution_count": 44
        }
      ]
    },
    {
      "cell_type": "markdown",
      "source": [
        "**Training set: `12700` images.**"
      ],
      "metadata": {
        "id": "UAy65sn5lQ8S"
      }
    },
    {
      "cell_type": "code",
      "source": [
        "train_images.shape"
      ],
      "metadata": {
        "colab": {
          "base_uri": "https://localhost:8080/"
        },
        "id": "XTdUDhi6bAnu",
        "outputId": "fbf4d666-066f-46d2-d87a-9886755d6ebd"
      },
      "execution_count": 45,
      "outputs": [
        {
          "output_type": "execute_result",
          "data": {
            "text/plain": [
              "(12700, 28, 28)"
            ]
          },
          "metadata": {},
          "execution_count": 45
        }
      ]
    },
    {
      "cell_type": "markdown",
      "source": [
        "**Image Size: Each image in the MNIST dataset has a size of  `28x28`  pixels.**"
      ],
      "metadata": {
        "id": "Raq3iueslbna"
      }
    },
    {
      "cell_type": "code",
      "source": [
        "train_images.shape"
      ],
      "metadata": {
        "colab": {
          "base_uri": "https://localhost:8080/"
        },
        "id": "FrVwteykbFgs",
        "outputId": "b5e4cd94-70f5-4dac-9985-6e7dbfd02105"
      },
      "execution_count": 46,
      "outputs": [
        {
          "output_type": "execute_result",
          "data": {
            "text/plain": [
              "(12700, 28, 28)"
            ]
          },
          "metadata": {},
          "execution_count": 46
        }
      ]
    },
    {
      "cell_type": "code",
      "source": [
        "# print(train_images[0])"
      ],
      "metadata": {
        "id": "uU8aXPc1nQYS"
      },
      "execution_count": 47,
      "outputs": []
    },
    {
      "cell_type": "markdown",
      "source": [
        "**each pixel typically has a single intensity value ranging from 0 (black) to 255 (white) ---- > the images are grayscale..**"
      ],
      "metadata": {
        "id": "DkM9lo4onWa3"
      }
    },
    {
      "cell_type": "code",
      "source": [
        "len(test_images)"
      ],
      "metadata": {
        "colab": {
          "base_uri": "https://localhost:8080/"
        },
        "id": "Wvcqpn1TO6on",
        "outputId": "7a255bec-f4e9-4731-8c10-476b284c1dab"
      },
      "execution_count": 48,
      "outputs": [
        {
          "output_type": "execute_result",
          "data": {
            "text/plain": [
              "2167"
            ]
          },
          "metadata": {},
          "execution_count": 48
        }
      ]
    },
    {
      "cell_type": "markdown",
      "source": [
        "**Test set: `2167` images.**"
      ],
      "metadata": {
        "id": "6cWfnyw4l9me"
      }
    },
    {
      "cell_type": "code",
      "source": [
        "test_images[0].shape"
      ],
      "metadata": {
        "colab": {
          "base_uri": "https://localhost:8080/"
        },
        "id": "phDxU6mAoJ5w",
        "outputId": "fc2600b6-d4d3-4c06-a2dd-a1b1b06782f0"
      },
      "execution_count": 49,
      "outputs": [
        {
          "output_type": "execute_result",
          "data": {
            "text/plain": [
              "(28, 28)"
            ]
          },
          "metadata": {},
          "execution_count": 49
        }
      ]
    },
    {
      "cell_type": "code",
      "source": [
        "test_images.shape"
      ],
      "metadata": {
        "colab": {
          "base_uri": "https://localhost:8080/"
        },
        "id": "sWnUyyMToNvw",
        "outputId": "0dc02039-7618-4164-b6d6-d1ac50d904e3"
      },
      "execution_count": 50,
      "outputs": [
        {
          "output_type": "execute_result",
          "data": {
            "text/plain": [
              "(2167, 28, 28)"
            ]
          },
          "metadata": {},
          "execution_count": 50
        }
      ]
    },
    {
      "cell_type": "markdown",
      "source": [
        "# **plotting**"
      ],
      "metadata": {
        "id": "W9p7pz-HoRPa"
      }
    },
    {
      "cell_type": "code",
      "source": [
        "plot_sample_images(train_images, train_labels, num_samples=4)"
      ],
      "metadata": {
        "colab": {
          "base_uri": "https://localhost:8080/",
          "height": 189
        },
        "id": "JnoUqdo1cq0_",
        "outputId": "5edd1990-5a09-4d64-c714-19a35b4a8bfe"
      },
      "execution_count": 51,
      "outputs": [
        {
          "output_type": "display_data",
          "data": {
            "text/plain": [
              "<Figure size 1000x1000 with 4 Axes>"
            ],
            "image/png": "[encoded data removed]"
          },
          "metadata": {}
        }
      ]
    },
    {
      "cell_type": "markdown",
      "source": [
        "# **Normalization**"
      ],
      "metadata": {
        "id": "CiLaPEsKoU3h"
      }
    },
    {
      "cell_type": "markdown",
      "source": [
        "---\n",
        "---\n",
        "---\n",
        "**Convergence Speed: Normalization can help the convergence of optimization algorithms, such as gradient descent. By scaling the input data to a smaller range, the optimization process may converge faster, leading to quicker training times.**"
      ],
      "metadata": {
        "id": "rdJdJ5jEpTrl"
      }
    },
    {
      "cell_type": "code",
      "source": [
        "# Normalize pixel values from 0 to 255 to 0 to 1\n",
        "train_images = utils.normalize(train_images, axis=1)\n",
        "test_images = utils.normalize(test_images, axis=1)"
      ],
      "metadata": {
        "id": "L0-vmpAmzZPB"
      },
      "execution_count": 52,
      "outputs": []
    },
    {
      "cell_type": "code",
      "source": [
        "# train_images[0]"
      ],
      "metadata": {
        "id": "Y4czkYBiixyX"
      },
      "execution_count": 55,
      "outputs": []
    },
    {
      "cell_type": "code",
      "source": [],
      "metadata": {
        "id": "_nUv7LFYHvr3"
      },
      "execution_count": 53,
      "outputs": []
    },
    {
      "cell_type": "code",
      "source": [],
      "metadata": {
        "id": "vDzov2amdUwK"
      },
      "execution_count": 33,
      "outputs": []
    },
    {
      "cell_type": "markdown",
      "source": [
        "# **Flatten**"
      ],
      "metadata": {
        "id": "kJ8oVgLMpIH6"
      }
    },
    {
      "cell_type": "markdown",
      "source": [
        "**Many neural network architectures, such as fully connected (dense) layers, require the input data to be in one-dimensional format. <br>\n",
        "Flattening converts the multi-dimensional input data (e.g., images represented as 2D arrays) into a one-dimensional array**"
      ],
      "metadata": {
        "id": "6HmDLXoGpwGB"
      }
    },
    {
      "cell_type": "code",
      "source": [
        "# Assuming you have already reshaped the images\n",
        "train_images = train_images.reshape(train_images.shape[0], -1)\n",
        "test_images = test_images.reshape(test_images.shape[0], -1)\n",
        "\n",
        "# Print the shapes of the flattened images\n",
        "print(\"Shape of flattened train images:\", train_images.shape)\n",
        "print(\"Shape of flattened test images:\", test_images.shape,\"\\n\")\n",
        "\n",
        "print(\"Shape of first flattened train images:\", train_images[0].shape)\n",
        "print(\"Shape of first flattened test images:\", test_images[0].shape)\n",
        "\n",
        "\n",
        "\n"
      ],
      "metadata": {
        "colab": {
          "base_uri": "https://localhost:8080/"
        },
        "id": "3IoaZOwVdUqz",
        "outputId": "21263788-bb3d-4717-b4ed-c85fe636e29a"
      },
      "execution_count": 78,
      "outputs": [
        {
          "output_type": "stream",
          "name": "stdout",
          "text": [
            "Shape of flattened train images: (12700, 784)\n",
            "Shape of flattened test images: (2167, 784) \n",
            "\n",
            "Shape of first flattened train images: (784,)\n",
            "Shape of first flattened test images: (784,)\n"
          ]
        }
      ]
    },
    {
      "cell_type": "code",
      "source": [
        "train_images.shape"
      ],
      "metadata": {
        "colab": {
          "base_uri": "https://localhost:8080/"
        },
        "id": "_obdyR4cdUoX",
        "outputId": "f72ba532-9cc6-47c9-fb46-934fd58cd791"
      },
      "execution_count": 79,
      "outputs": [
        {
          "output_type": "execute_result",
          "data": {
            "text/plain": [
              "(12700, 784)"
            ]
          },
          "metadata": {},
          "execution_count": 79
        }
      ]
    },
    {
      "cell_type": "code",
      "source": [],
      "metadata": {
        "id": "lWTgOUNYdUjw"
      },
      "execution_count": null,
      "outputs": []
    },
    {
      "cell_type": "code",
      "source": [],
      "metadata": {
        "id": "8IvbWJTFdUhM"
      },
      "execution_count": null,
      "outputs": []
    },
    {
      "cell_type": "code",
      "source": [],
      "metadata": {
        "id": "tiVgOomrqEZX"
      },
      "execution_count": null,
      "outputs": []
    },
    {
      "cell_type": "markdown",
      "source": [
        "# **NN**"
      ],
      "metadata": {
        "id": "8QReLnsLqFdD"
      }
    },
    {
      "cell_type": "markdown",
      "source": [
        "## **Activation function**"
      ],
      "metadata": {
        "id": "QQbS12VO7Ojw"
      }
    },
    {
      "cell_type": "code",
      "source": [
        "def sigmoid(Z):\n",
        "    return 1 / (1 + np.exp(-Z))\n",
        "#*******************************************************************************\n",
        "z = np.array([[1,2]])\n",
        "sigmoid(z)"
      ],
      "metadata": {
        "colab": {
          "base_uri": "https://localhost:8080/"
        },
        "id": "fQCAlJrQ-CFw",
        "outputId": "da8daaa2-7a73-4645-e8dc-b6b96d991735"
      },
      "execution_count": 84,
      "outputs": [
        {
          "output_type": "execute_result",
          "data": {
            "text/plain": [
              "array([[0.73105858, 0.88079708]])"
            ]
          },
          "metadata": {},
          "execution_count": 84
        }
      ]
    },
    {
      "cell_type": "code",
      "source": [
        "def relu(Z):\n",
        "    return np.maximum(0, Z)\n",
        "#*******************************************************************************\n",
        "z = np.array([[1,-2 , 0 , 100]])\n",
        "relu(z)"
      ],
      "metadata": {
        "colab": {
          "base_uri": "https://localhost:8080/"
        },
        "id": "Wbmk_zi8-gxE",
        "outputId": "7c27f118-ac96-466f-eef3-6263d00d55a2"
      },
      "execution_count": 85,
      "outputs": [
        {
          "output_type": "execute_result",
          "data": {
            "text/plain": [
              "array([[  1,   0,   0, 100]])"
            ]
          },
          "metadata": {},
          "execution_count": 85
        }
      ]
    },
    {
      "cell_type": "code",
      "source": [
        "def sigmoid(Z):\n",
        "    \"\"\"\n",
        "    Compute the sigmoid activation function.\n",
        "\n",
        "    Arguments:\n",
        "    Z -- numpy array of any shape\n",
        "\n",
        "    Returns:\n",
        "    A -- output of the sigmoid function, same shape as Z\n",
        "    \"\"\"\n",
        "    return 1 / (1 + np.exp(-Z))\n",
        "\n",
        "def relu(Z):\n",
        "    \"\"\"\n",
        "    Compute the ReLU activation function.\n",
        "\n",
        "    Arguments:\n",
        "    Z -- numpy array of any shape\n",
        "\n",
        "    Returns:\n",
        "    A -- output of the ReLU function, same shape as Z\n",
        "    \"\"\"\n",
        "    return np.maximum(0, Z)\n",
        "\n"
      ],
      "metadata": {
        "id": "GtzttGiKqHAz"
      },
      "execution_count": 86,
      "outputs": []
    },
    {
      "cell_type": "markdown",
      "source": [
        "## **Feed Forward Implementation**"
      ],
      "metadata": {
        "id": "vbgr8GwUz5Ue"
      }
    },
    {
      "cell_type": "markdown",
      "source": [
        "Our NN will have a simple three-layer architecture. <br><br>Input layer $a^{[0]}$ will have 784 units corresponding to the 784 pixels in each 28x28 input image.<br><br>\n",
        "First hidden layer $a^{[1]}$ will have 4 units with ReLU activation.<br><br>\n",
        "Second hidden layer $a^{[2]}$ will have 2 units with ReLU activation.<br><br>\n",
        "and finally our output layer $a^{[3]}$ will have 1 unit corresponding to the two digit classes with sigmoid activation.<br><br>\n",
        "\n",
        "**Forward propagation**\n",
        "\n",
        "$$Z^{[1]} = W^{[0]}.  X + b^{[0]}$$\n",
        "$$a^{[1]} = g_{\\text{ReLU}}(Z^{[1]}))$$<br><br>\n",
        "\n",
        "$$Z^{[2]} = W^{[1]} .a^{[1]} + b^{[1]}$$\n",
        "$$a^{[2]} = g_{\\text{ReLU}}(Z^{[1]}))$$<br><br>\n",
        "\n",
        "$$Z^{[3]} = W^{[2]} . a^{[2]} + b^{[2]}$$\n",
        "$$a^{[3]} = g_{\\text{sigmoid}}(Z^{[1]}))$$<br><br>\n",
        "\n",
        "<!-- $$Z^{[2]} = W^{[2]} A^{[1]} + b^{[2]}$$\n",
        "$$a^{[2]} = g_{\\text{softmax}}(Z^{[2]})$$ -->\n",
        "\n",
        "\n",
        "\n",
        "**shapes**\n",
        "\n",
        "Forward prop\n",
        "- $a^{[0]} $ : 12700 * 784\n",
        "- $W^{[0]} $: 784 * 4\n",
        "- $b^{[0]} $: 1 * 4\n",
        "- $Z^{[1]} $: 12700 * 4 <br><br>\n",
        "\n",
        "- $a^{[1]} $ : 12700 * 4\n",
        "- $W^{[1]} $: 4 * 2\n",
        "- $b^{[1]} $: 1 * 2\n",
        "- $Z^{[2]} $: 12700 * 2<br><br>\n",
        "\n",
        "- $a^{[2]} $ : 12700 * 2\n",
        "- $W^{[2]} $: 2 * 1\n",
        "- $b^{[2]} $: 1 * 1\n",
        "- $Z^{[3]} $: 12700 * 1<br><br>\n",
        "\n",
        "\n",
        "\n",
        "\n",
        "\n"
      ],
      "metadata": {
        "id": "0P1h-3UP_Imt"
      }
    },
    {
      "cell_type": "code",
      "source": [
        "train_images.shape"
      ],
      "metadata": {
        "colab": {
          "base_uri": "https://localhost:8080/"
        },
        "id": "SWDUw9a02MHt",
        "outputId": "69fccc24-09a7-4f6e-b3fa-621d9251ecd0"
      },
      "execution_count": 145,
      "outputs": [
        {
          "output_type": "execute_result",
          "data": {
            "text/plain": [
              "(12700, 784)"
            ]
          },
          "metadata": {},
          "execution_count": 145
        }
      ]
    },
    {
      "cell_type": "code",
      "source": [
        "input_layer0 = train_images   #(12700, 784)\n",
        "nodes_layer0 = input_layer0.shape[1]   #784\n",
        "nodes_layer1 = 4\n",
        "nodes_layer2 = 2\n",
        "nodes_layer3 = 1\n",
        "\n",
        "w0 = np.random.rand ( nodes_layer0 , nodes_layer1 )\n",
        "b0 = np.random.rand ( 1            , nodes_layer1 )\n",
        "\n",
        "w1 = np.random.rand ( nodes_layer1 , nodes_layer2 )\n",
        "b1 = np.random.rand ( 1            , nodes_layer2 )\n",
        "\n",
        "\n",
        "w2 = np.random.rand ( nodes_layer2 , nodes_layer3 )\n",
        "b2 = np.random.rand ( 1            , nodes_layer3 )\n",
        "\n",
        "\n",
        "\n",
        "# w0 = np.full ( ( input_layer0.shape[1] + 1 , nodes_layer1 ) , 1)\n",
        "# w1 = np.full ( ( nodes_layer1          + 1 , nodes_layer2 ) , 1)\n",
        "# w2 = np.full ( ( nodes_layer2          + 1 , nodes_layer3 ) , 1)\n",
        "\n",
        "\n",
        "print(f\"input shape = {input_layer0.shape}\")\n",
        "print(f\"nodes in layer 0 = {nodes_layer0} , w0 shape = {w0.shape} , b0 shape = {b0.shape}\")\n",
        "print(f\"nodes in layer 1 = {nodes_layer1}   , w1 shape = {w1.shape}   , b1 shape = {b1.shape}\")\n",
        "print(f\"nodes in layer 2 = {nodes_layer2}   , w2 shape = {w2.shape}   , b2 shape = {b2.shape}\")\n",
        "print(f\"nodes in layer 3 = {nodes_layer3}\")\n",
        "\n",
        "\n"
      ],
      "metadata": {
        "colab": {
          "base_uri": "https://localhost:8080/"
        },
        "id": "Joo7t0MKvYsd",
        "outputId": "afc7a092-1927-4f56-a7a8-1d92b5474537"
      },
      "execution_count": 146,
      "outputs": [
        {
          "output_type": "stream",
          "name": "stdout",
          "text": [
            "input shape = (12700, 784)\n",
            "nodes in layer 0 = 784 , w0 shape = (784, 4) , b0 shape = (1, 4)\n",
            "nodes in layer 1 = 4   , w1 shape = (4, 2)   , b1 shape = (1, 2)\n",
            "nodes in layer 2 = 2   , w2 shape = (2, 1)   , b2 shape = (1, 1)\n",
            "nodes in layer 3 = 1\n"
          ]
        }
      ]
    },
    {
      "cell_type": "code",
      "source": [
        "#compute nodes in layer 1 (a1 a2 a3 a4)\n",
        "z1 =  b0 +np.dot(input_layer0 , w0)\n",
        "  #  (1*4)+   (12700*784) * (784*4)  ---- > (12700*4)\n",
        "a1 = relu (z1)\n",
        "#-----------------------------------------------------------\n",
        "#compute nodes in layer 2 (a1 a2 a3 )\n",
        "z2 =  b1 +np.dot(a1 , w1)\n",
        "#   (1*2)+   (12700*4) * (4*2)  ---- > (12700*2)\n",
        "a2 = relu (z2)\n",
        "#-----------------------------------------------------------\n",
        "#compute nodes in layer 3 (a1)\n",
        "z3 =  b2 +np.dot(a2 , w2)\n",
        "#   (1*1)+   (12700*2) * (2*1)  ---- > (12700*1)\n",
        "a3 = sigmoid (z3)\n",
        "#-----------------------------------------------------------\n",
        "print(f\"{a1.shape} {a2.shape} {a3.shape}\")"
      ],
      "metadata": {
        "colab": {
          "base_uri": "https://localhost:8080/"
        },
        "id": "6Cd7jdW4zTn7",
        "outputId": "08159c70-5169-484a-9e15-b5c0299557c2"
      },
      "execution_count": 148,
      "outputs": [
        {
          "output_type": "stream",
          "name": "stdout",
          "text": [
            "(12700, 4) (12700, 2) (12700, 1)\n"
          ]
        }
      ]
    },
    {
      "cell_type": "markdown",
      "source": [
        "# **Backward propagation Implementation**"
      ],
      "metadata": {
        "id": "X9SJ_ppvU1XM"
      }
    },
    {
      "cell_type": "code",
      "source": [],
      "metadata": {
        "id": "lXwTC2_57WAX"
      },
      "execution_count": null,
      "outputs": []
    }
  ]
}